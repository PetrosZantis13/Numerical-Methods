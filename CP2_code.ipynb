{
 "cells": [
  {
   "cell_type": "markdown",
   "metadata": {
    "deletable": false,
    "editable": false,
    "nbgrader": {
     "cell_type": "markdown",
     "checksum": "ef563c69f70e4508d5d2186248842296",
     "grade": false,
     "grade_id": "header",
     "locked": true,
     "schema_version": 3,
     "solution": false,
     "task": false
    }
   },
   "source": [
    "# Checkpoint 2\n",
    "\n",
    "**Due: Friday, 6 November, 2020 at 5:00pm GMT**\n",
    "\n",
    "### Read This First\n",
    "1. Use the constants provided in the cell below. Do not use your own constants.\n",
    "\n",
    "2. Put the code that produces the output for a given task in the cell indicated. You are welcome to add as many cells as you like for imports, function definitions, variables, etc. **Additional cells need to be in the proper order such that your code runs correctly the first time through.**\n",
    "\n",
    "3. **IMPORTANT!** Before submitting your notebook, clear the output by clicking *Restart & Clear Output* from the *Kernel* menu. If you do not do this, the file size of your notebook will be very large."
   ]
  },
  {
   "cell_type": "code",
   "execution_count": 1,
   "metadata": {},
   "outputs": [],
   "source": [
    "import matplotlib.pyplot as plt\n",
    "%matplotlib inline\n",
    "import numpy as np\n",
    "import time\n",
    "\n",
    "from scipy.sparse.linalg import splu\n",
    "from scipy.sparse import diags\n",
    "from scipy.sparse import identity\n",
    "from scipy.linalg import eigh_tridiagonal\n",
    "from scipy import integrate\n",
    "from scipy import interpolate\n",
    "from matplotlib.ticker import FormatStrFormatter\n",
    "\n",
    "plt.rcParams['figure.figsize'] = (12, 8)\n",
    "plt.rcParams['font.size'] = 16"
   ]
  },
  {
   "cell_type": "markdown",
   "metadata": {
    "deletable": false,
    "editable": false,
    "nbgrader": {
     "cell_type": "markdown",
     "checksum": "97fb576f81dbdf14d16161118c8478ee",
     "grade": false,
     "grade_id": "section-task1",
     "locked": true,
     "schema_version": 3,
     "solution": false,
     "task": false
    }
   },
   "source": [
    "# Task 1 (25p)\n",
    "\n",
    "Find numerically the first 101 lowest eigenvalues (“energies”) of the discrete Hamiltonian matrix, H, for V=0 and x=0,...,L, with L=100, dx=1/8 and with reflecting boundary conditions:\n",
    "\n",
    "$\n",
    "\\begin{align}\n",
    "\\psi_N \\equiv \\psi_{N-1},\n",
    "\\end{align}\n",
    "$\n",
    "\n",
    "$\n",
    "\\begin{align}\n",
    "\\psi_{-1} \\equiv \\psi_0,\n",
    "\\end{align}\n",
    "$\n",
    "\n",
    "Here the index -1 denotes the element to the left of the element zero, not the element N-1 as in Python. Note that indices $-1, N$ refer to elements of $\\psi$ that are outside the matrix H.\n",
    "\n",
    "Hint: The eigenvalues, $w_n$, should be\n",
    "\n",
    "$\n",
    "\\large\n",
    "\\begin{align}\n",
    "w_n = \\frac{2\\left(1 - \\cos (\\frac{n \\pi}{N}) \\right)}{dx^2}\n",
    "\\end{align}\n",
    "$\n",
    "\n",
    "for n=0, 1,..., 100. The corresponding (non-normalized) eigenvectors, $v_n$ are\n",
    "\n",
    "$\n",
    "\\large\n",
    "\\begin{align}\n",
    "v_n = \\cos \\left( \\frac{n \\pi x}{L} \\right)\n",
    "\\end{align}\n",
    "$\n",
    "\n",
    "for x=0, dx,..., (N-1)dx."
   ]
  },
  {
   "cell_type": "code",
   "execution_count": 2,
   "metadata": {
    "deletable": false,
    "editable": false,
    "nbgrader": {
     "cell_type": "code",
     "checksum": "3b96418e8d805191fab5578bfe1d9c6c",
     "grade": false,
     "grade_id": "constants-task1",
     "locked": true,
     "schema_version": 3,
     "solution": false,
     "task": false
    }
   },
   "outputs": [
    {
     "name": "stdout",
     "output_type": "stream",
     "text": [
      "Matrix size: 800.\n"
     ]
    }
   ],
   "source": [
    "### Values for task 1\n",
    "L  = 100\n",
    "dx = 1/8\n",
    "N  = int(L/dx)\n",
    "print(f\"Matrix size: {N}.\")"
   ]
  },
  {
   "cell_type": "markdown",
   "metadata": {
    "deletable": false,
    "editable": false,
    "nbgrader": {
     "cell_type": "markdown",
     "checksum": "f0ae58bad90ae10f41964fb2483fcd7a",
     "grade": false,
     "grade_id": "section-task1-cont",
     "locked": true,
     "schema_version": 3,
     "solution": false,
     "task": false
    }
   },
   "source": [
    "In the cell below, compute the 101 lowest eigenvalues given the values of V, L, and dx from above. The function, `task1` should return an array of the eigenvalues.\n",
    "\n",
    "It may be useful to write a generalized function for creating the Hamiltonian given values of N, dx, and V."
   ]
  },
  {
   "cell_type": "code",
   "execution_count": 3,
   "metadata": {},
   "outputs": [],
   "source": [
    "# The function laplacian() takes as parameters the total number of x-points (N) to use for the creation of the array\n",
    "# and the value of dx, and returns the matrix representation of the Laplacian operator.\n",
    "\n",
    "def laplacian(N, dx):\n",
    "    \n",
    "    main = [-2]*N\n",
    "    offs = [1]*N\n",
    "    # csc == compressed sparse column & csr == compressed sparse row\n",
    "    lapl = diags([main,offs,offs],[0,1,-1]).tocsc().tocsr()   \n",
    "    # the following corrections represent the boundary conditions given above\n",
    "    lapl[0,0] = -1   \n",
    "    lapl[N-1,N-1] = -1\n",
    "    lapl = (1/(dx**2)) * lapl\n",
    "    return lapl\n",
    "\n",
    "# The function hamiltonian() takes as parameters the total number of x-points (N) to use for the creation of the array,\n",
    "# the value of dx and the potential V, and returns the matrix representation of the Hamiltonian operator.\n",
    "\n",
    "def hamiltonian(N, dx, V):\n",
    "    \n",
    "    lapl = laplacian(N,dx)\n",
    "    hamil = -lapl + V\n",
    "    return hamil"
   ]
  },
  {
   "cell_type": "code",
   "execution_count": 4,
   "metadata": {
    "deletable": false,
    "nbgrader": {
     "cell_type": "code",
     "checksum": "2a540aba8afd7cc72f9f22b65262e589",
     "grade": false,
     "grade_id": "function-task1",
     "locked": false,
     "schema_version": 3,
     "solution": true,
     "task": false
    }
   },
   "outputs": [],
   "source": [
    "# The function task1() creates the Hamiltonian with the given values of N and dx, and a potential of 0, then \n",
    "# extracts the diagonal and off-diagonals and using those it finds and returns the 101 smallest magnitude eigenvalues.\n",
    "\n",
    "def task1():\n",
    "    \n",
    "    hamil = hamiltonian(N,dx,0)\n",
    "    d = np.diag(hamil.toarray(),0)  # diagonal\n",
    "    e = np.diag(hamil.toarray(),1)  # off-diagonals\n",
    "    eigvals, eigvects = eigh_tridiagonal(d, e, select='i', select_range=(0,100))\n",
    "    return eigvals"
   ]
  },
  {
   "cell_type": "markdown",
   "metadata": {
    "deletable": false,
    "editable": false,
    "nbgrader": {
     "cell_type": "markdown",
     "checksum": "a305e20dabd91962b111fda679d05c27",
     "grade": false,
     "grade_id": "section-testing-task1",
     "locked": true,
     "schema_version": 3,
     "solution": false,
     "task": false
    }
   },
   "source": [
    "## Testing task 1\n",
    "\n",
    "The cell below will run your function and compare it with the expected values."
   ]
  },
  {
   "cell_type": "code",
   "execution_count": 5,
   "metadata": {
    "deletable": false,
    "editable": false,
    "nbgrader": {
     "cell_type": "code",
     "checksum": "807d873c64673010810b7a92b3e122b0",
     "grade": true,
     "grade_id": "test-task1",
     "locked": true,
     "points": 0,
     "schema_version": 3,
     "solution": false,
     "task": false
    }
   },
   "outputs": [
    {
     "name": "stdout",
     "output_type": "stream",
     "text": [
      "Time to solution: 0.06552624702453613 seconds.\n"
     ]
    },
    {
     "data": {
      "image/png": "[encoded data removed]",
      "text/plain": [
       "<Figure size 864x576 with 1 Axes>"
      ]
     },
     "metadata": {
      "needs_background": "light"
     },
     "output_type": "display_data"
    },
    {
     "name": "stdout",
     "output_type": "stream",
     "text": [
      "Max difference is 1.7702117765407015e-11.\n"
     ]
    }
   ],
   "source": [
    "t1 = time.time()\n",
    "ww = task1()\n",
    "t2 = time.time()\n",
    "print (f\"Time to solution: {t2-t1} seconds.\")\n",
    "\n",
    "my_n = np.arange(101)\n",
    "ww_expected = 2 * (1 - np.cos(my_n*np.pi/N)) / dx**2\n",
    "\n",
    "plt.plot(my_n, ww, label='Computed', alpha=0.8)\n",
    "plt.plot(my_n, ww_expected, label='Expected', linewidth=2, linestyle='--', alpha=0.8)\n",
    "plt.xlabel(r'$n$')\n",
    "plt.ylabel(r'$w_{n}$')\n",
    "plt.legend()\n",
    "plt.show()\n",
    "\n",
    "diff = np.abs(ww - ww_expected) / np.max(np.abs([ww, ww_expected]), axis=0)\n",
    "print (f\"Max difference is {diff[1:].max()}.\")\n",
    "assert (diff[1:] < 1e-6).all()"
   ]
  },
  {
   "cell_type": "markdown",
   "metadata": {
    "deletable": false,
    "editable": false,
    "nbgrader": {
     "cell_type": "markdown",
     "checksum": "6b54b11725241c0fc135be932c0dc0bf",
     "grade": false,
     "grade_id": "section-task2",
     "locked": true,
     "schema_version": 3,
     "solution": false,
     "task": false
    }
   },
   "source": [
    "# Task 2 (5p)\n",
    "\n",
    "Select dx as a negative power of two ($dx=2^{-n}$ for n>0) such that the 101th eigenvalue differs from the dx$\\rightarrow$0 limiting value of\n",
    "\n",
    "$\n",
    "\\begin{align}\n",
    "w_{101,exact} = \\frac{(100\\pi/N)^{2}}{dx^2}\n",
    "\\end{align}\n",
    "$\n",
    "\n",
    "by less than 0.1%, i.e., $|w_{101}/w_{101,exact}-1|<0.001$.\n",
    "\n",
    "Motivation: selecting a sufficiently small dx is required to obtain a good approximation to the original (continuous) equation (1) for subsequent tasks.\n",
    "\n",
    "In the cell below, compute a value of dx that satisfies the above contraint. The function `task2` should return the value of dx that you have calculated."
   ]
  },
  {
   "cell_type": "code",
   "execution_count": 6,
   "metadata": {
    "deletable": false,
    "nbgrader": {
     "cell_type": "code",
     "checksum": "564c94d57db0859bc5bc3dd8c130330d",
     "grade": false,
     "grade_id": "function-task2",
     "locked": false,
     "schema_version": 3,
     "solution": true,
     "task": false
    }
   },
   "outputs": [],
   "source": [
    "# The function task2() loops through several integer values of n. Each time it calculates the corresponding dx,\n",
    "# creates the Hamiltonian and finds the 101th smallest magnitude eigenvalue, to check it against the exact from the\n",
    "# equation as given above. When the difference is less than the tolerance (0.001), the function stops and returns\n",
    "# the optimal value for dx.\n",
    "\n",
    "def task2():\n",
    "    \n",
    "    ns = np.arange(1,10,1)\n",
    "    for n in ns:\n",
    "        \n",
    "        dx = (2.0)**(-n)\n",
    "        N  = int(L/dx)\n",
    "        hamil = hamiltonian(N,dx,0)\n",
    "        d = np.diag(hamil.toarray(),0)  # diagonal\n",
    "        e = np.diag(hamil.toarray(),1)  # off-diagonals\n",
    "        eigvals, eigvects = eigh_tridiagonal(d, e, select='i', select_range=(100,100))  # only the 101th eigenvalue\n",
    "        exact = (((100*np.pi)/N)**2)/(dx**2)\n",
    "        diff = np.abs( (eigvals[0] / exact) -1)\n",
    "        \n",
    "        if(diff<0.001):\n",
    "            print(f\"The optimal value for dx is equal to {dx}\")\n",
    "            return(dx)"
   ]
  },
  {
   "cell_type": "markdown",
   "metadata": {
    "deletable": false,
    "editable": false,
    "nbgrader": {
     "cell_type": "markdown",
     "checksum": "39641e91784f331101fec867e65e432a",
     "grade": false,
     "grade_id": "section-testing-task2",
     "locked": true,
     "schema_version": 3,
     "solution": false,
     "task": false
    }
   },
   "source": [
    "## Testing task 2\n",
    "\n",
    "The cell below will run the `task2` function. We will verify that value of dx return satisfies the criterion outlined above."
   ]
  },
  {
   "cell_type": "code",
   "execution_count": 7,
   "metadata": {
    "deletable": false,
    "editable": false,
    "nbgrader": {
     "cell_type": "code",
     "checksum": "c5bc499d8c9b1e1acf2400536aa6dd26",
     "grade": true,
     "grade_id": "test-task2",
     "locked": true,
     "points": 0,
     "schema_version": 3,
     "solution": false,
     "task": false
    }
   },
   "outputs": [
    {
     "name": "stdout",
     "output_type": "stream",
     "text": [
      "The optimal value for dx is equal to 0.03125\n",
      "Time to solution: 0.07071256637573242 seconds.\n"
     ]
    }
   ],
   "source": [
    "t1 = time.time()\n",
    "my_dx = task2()\n",
    "t2 = time.time()\n",
    "print (f\"Time to solution: {t2-t1} seconds.\")\n"
   ]
  },
  {
   "cell_type": "markdown",
   "metadata": {
    "deletable": false,
    "editable": false,
    "nbgrader": {
     "cell_type": "markdown",
     "checksum": "f2e4dcb87cfbbe6722c352b2f9bc17a7",
     "grade": false,
     "grade_id": "section-task3",
     "locked": true,
     "schema_version": 3,
     "solution": false,
     "task": false
    }
   },
   "source": [
    "# Task 3 (20p)\n",
    "\n",
    "Solve equation (1) with the initial condition (2) (the Schroedinger equation and the Gaussian function from the checkpoint's description) for V(x)=0, on a domain x=0...100, for t=0...4 and dx from task 2. Plot $|\\psi(x,t)|^2$ and determine its mean given by\n",
    "\n",
    "$\n",
    "\\large\n",
    "\\begin{align}\n",
    "<x>\\ = \\int_{0}^{100} |ψ(x)|^2 x dx.\n",
    "\\end{align}\n",
    "$\n",
    "\n",
    "The mean should be equal to 79$\\pm$-1.\n",
    "\n",
    "Hint: use the procedure for creating the Hamiltonian matrix from tasks 1, 2. This will reduce the amount of coding required."
   ]
  },
  {
   "cell_type": "code",
   "execution_count": 8,
   "metadata": {
    "deletable": false,
    "editable": false,
    "nbgrader": {
     "cell_type": "code",
     "checksum": "9a9e978c8645282513b821173f09c460",
     "grade": false,
     "grade_id": "constants-task3",
     "locked": true,
     "schema_version": 3,
     "solution": false,
     "task": false
    }
   },
   "outputs": [],
   "source": [
    "### Constants for task 3 and 4\n",
    "x0     = 15\n",
    "v      = 16\n",
    "sigma2 = 5\n",
    "tmax   = 4"
   ]
  },
  {
   "cell_type": "markdown",
   "metadata": {
    "deletable": false,
    "editable": false,
    "nbgrader": {
     "cell_type": "markdown",
     "checksum": "1e27c438de19cefd35bfacb16b3d74e8",
     "grade": false,
     "grade_id": "section-plot-task3",
     "locked": true,
     "schema_version": 3,
     "solution": false,
     "task": false
    }
   },
   "source": [
    "## Task 3 plot and result\n",
    "\n",
    "In the cell(s) below, do the following:\n",
    "1. Solve equation (1) for t=0...4 and plot $|\\psi(x,t=0)|^2$ and $|\\psi(x,t=tmax)|^2$ as a function of x.\n",
    "2. Compute the mean of the final position and print the value. The correct result should be between 78 and 80.\n",
    "\n",
    "Don't forget to nomalize your Gaussian initial condition so that the total probability $\\int_0^L |\\psi(x,t=0)|^2 dx=1$. \n",
    "\n",
    "You do not have to wrap up the calculation in a function \"task3()\", but doing so may help to reduce the amount of coding for tasks 4-6."
   ]
  },
  {
   "cell_type": "code",
   "execution_count": 9,
   "metadata": {},
   "outputs": [],
   "source": [
    "# The function get_space() takes as parameters the left and right (min and max) values of the space, and \n",
    "# selects a dx value depending on the boolean 'use_my_dx'. Then, it creates an array of the x-values to be used. \n",
    "# The function returns the array of xs and the value of dx.\n",
    "\n",
    "def get_space(a,b):\n",
    "    \n",
    "    if(use_my_dx):\n",
    "        dx = my_dx\n",
    "    else:\n",
    "        dx = (2.0)**(-6)   # small enough to ensure high accuracy in the solutions\n",
    "    \n",
    "    xs = np.arange(a,b+dx,dx)\n",
    "    return xs, dx\n",
    "\n",
    "# The function get_time() uses the specified dt to create an array of the t-values to be used. \n",
    "# The function returns the array of ts and the value of dt.\n",
    "\n",
    "def get_time():\n",
    "    \n",
    "    dt = (2.0)**(-10)   # small enough to ensure high accuracy in the solutions\n",
    "    ts = np.arange(0,tmax+dt,dt)\n",
    "    return ts, dt"
   ]
  },
  {
   "cell_type": "code",
   "execution_count": 10,
   "metadata": {},
   "outputs": [],
   "source": [
    "# The function initial() takes as parameters the x-points and the velocity v, and uses equation (2) to\n",
    "# create and return the wavefunction of the initial condition. \n",
    "\n",
    "def initial(xs,v):\n",
    "    \n",
    "    expr = ((xs-x0)**2)/(2*sigma2)\n",
    "    expr2 = (1j*v*xs)/2\n",
    "    psi0 = np.exp(-expr+expr2)\n",
    "    return psi0\n",
    "\n",
    "# The function normalize() takes as parameters the initial wavefunction and the x-points, and integrates it \n",
    "# from 0 to L with respect to x. Then, it calculates the normalization factor and returns the normalized wavefunction.\n",
    "\n",
    "def normalize(psi0, xs):\n",
    "    \n",
    "    psi0_sq = (psi0 * psi0.conj()).real\n",
    "    I = integrate.simps(psi0_sq,xs)\n",
    "    Norm = 1/np.sqrt(I)\n",
    "    psi0 = Norm*psi0\n",
    "    return psi0\n",
    "\n",
    "# The function mean() takes as parameters a wavefunction and the x-points, and integrates the square of the \n",
    "# wavefunction times x, from 0 to L with respect to x. The integral represents the mean position, which is returned\n",
    "# by the function.\n",
    "\n",
    "def get_mean(psi_n, xs):\n",
    "    \n",
    "    psiN_sq = (psi_n * psi_n.conj()).real\n",
    "    I = integrate.simps(psiN_sq*xs,xs)\n",
    "    \n",
    "    return I"
   ]
  },
  {
   "cell_type": "code",
   "execution_count": 11,
   "metadata": {
    "deletable": false,
    "nbgrader": {
     "cell_type": "code",
     "checksum": "46aef034c85233969d2a90e3f1e102b1",
     "grade": true,
     "grade_id": "function-task3",
     "locked": false,
     "points": 0,
     "schema_version": 3,
     "solution": true,
     "task": false
    }
   },
   "outputs": [],
   "source": [
    "# The function task3() takes as parameters the velocity 'v', the potential 'V' and the Boolean value 'plotBool' to \n",
    "# indicate if a plot of the wavefunctions is desired. Then, it uses all the functions explained above to set up space, \n",
    "# time, the initial condition and the Hamiltonian operator. Next, matrices A and b (as explained in the lectures) are\n",
    "# created and then used for solving the Schroedinger equation. Finally, the wavefunctions for all time-steps are returned.\n",
    "\n",
    "\n",
    "use_my_dx=True   # indication to use the my_dx value from task2()\n",
    "\n",
    "def task3(v, V, plotBool):\n",
    "\n",
    "    xs, dx = get_space(0,100)\n",
    "        \n",
    "    N = len(xs)\n",
    "    ts, dt = get_time()\n",
    "\n",
    "    psi0 = initial(xs,v)\n",
    "    psi0 = normalize(psi0,xs)\n",
    "    hamil = hamiltonian(N,dx,V)  \n",
    "    \n",
    "    A = (identity(N)+0.5j*hamil*dt).tocsc()\n",
    "    b = (identity(N)-0.5j*hamil*dt).tocsc()\n",
    "    A = splu(A)    # LU decomposition of a sparse, square matrix.\n",
    "    \n",
    "    psi_n = psi0.copy()\n",
    "    \n",
    "    psis = np.empty((len(ts),len(psi0)),dtype=complex)  # an array to store the wavefunction at each time-step\n",
    "    \n",
    "    for n in range(len(ts)):\n",
    "        psis[n] = psi_n\n",
    "        psi_n = A.solve(b*psi_n)\n",
    "    \n",
    "    if(plotBool):\n",
    "        plt.plot(xs,psi0 * psi0.conj(), label = '$|\\psi\\ (x,t=0)|^2$' )\n",
    "        plt.plot(xs,psi_n * psi_n.conj(), label = '$|\\psi\\ (x,t=tmax)|^2$')\n",
    "        plt.xlabel('x')\n",
    "        plt.ylabel('$|\\psi\\ (x,t)|^2$')\n",
    "        plt.legend()\n",
    "        plt.show()\n",
    "        \n",
    "    mean = get_mean(psi_n,xs)\n",
    "    \n",
    "    return psis, mean\n"
   ]
  },
  {
   "cell_type": "code",
   "execution_count": 12,
   "metadata": {},
   "outputs": [
    {
     "name": "stderr",
     "output_type": "stream",
     "text": [
      "/opt/conda/lib/python3.7/site-packages/numpy/core/_asarray.py:83: ComplexWarning: Casting complex values to real discards the imaginary part\n",
      "  return array(a, dtype, copy=False, order=order)\n",
      "/opt/conda/lib/python3.7/site-packages/numpy/core/_asarray.py:83: ComplexWarning: Casting complex values to real discards the imaginary part\n",
      "  return array(a, dtype, copy=False, order=order)\n"
     ]
    },
    {
     "data": {
      "image/png": "[encoded data removed]",
      "text/plain": [
       "<Figure size 864x576 with 1 Axes>"
      ]
     },
     "metadata": {
      "needs_background": "light"
     },
     "output_type": "display_data"
    },
    {
     "name": "stdout",
     "output_type": "stream",
     "text": [
      "The mean of the final position is 78.286\n",
      "Time to solution: 1.2542905807495117 seconds.\n"
     ]
    }
   ],
   "source": [
    "t1 = time.time()\n",
    "run, mean = task3(v, 0, plotBool=True)\n",
    "t2 = time.time()\n",
    "print(f\"The mean of the final position is {mean:.3f}\")\n",
    "print (f\"Time to solution: {t2-t1} seconds.\")"
   ]
  },
  {
   "cell_type": "markdown",
   "metadata": {
    "deletable": false,
    "editable": false,
    "nbgrader": {
     "cell_type": "markdown",
     "checksum": "78f9c05ab558663eee6abd74c130f534",
     "grade": false,
     "grade_id": "section-task4",
     "locked": true,
     "schema_version": 3,
     "solution": false,
     "task": false
    }
   },
   "source": [
    "# Task 4 (10p)\n",
    "\n",
    "Now repeat task 3 for a potential made up of regularly spaced wells such that\n",
    "\n",
    "V=70 for |x-i| < 0.25 where i=0,1,...,100,\n",
    "\n",
    "and V=0 elsewhere.\n",
    "\n",
    "Plot the potential. It should be $V=70$ for $x=0...0.25$, $V=0$ for $x=0.25...0.75$, $V=70$ for $x=0.75...1.25$, and so on.\n",
    "\n",
    "Determine the mean of $|\\psi(x,t)|^2$ as before, with accuracy $\\pm$1.\n",
    "\n",
    "Make sure that dx and dt are sufficiently small to achieve this accuracy!\n",
    "\n",
    "In the cell below, create the potential and plot it over the range [0, 3]."
   ]
  },
  {
   "cell_type": "code",
   "execution_count": 13,
   "metadata": {
    "deletable": false,
    "nbgrader": {
     "cell_type": "code",
     "checksum": "a2c019e4771e7c2e39134e8f9f73c1fb",
     "grade": false,
     "grade_id": "function-task4",
     "locked": false,
     "schema_version": 3,
     "solution": true,
     "task": false
    }
   },
   "outputs": [
    {
     "data": {
      "image/png": "[encoded data removed]",
      "text/plain": [
       "<Figure size 864x576 with 1 Axes>"
      ]
     },
     "metadata": {
      "needs_background": "light"
     },
     "output_type": "display_data"
    }
   ],
   "source": [
    "# The function plot_V() takes as parameters the x-positions, the values of the potential over the x-positions, \n",
    "# and a value xmax, and then plots the potential from 0 to xmax.\n",
    "\n",
    "def plot_V(xs, values, xmax):\n",
    "    \n",
    "    plt.plot(xs,values)\n",
    "    plt.xlim((0,xmax))\n",
    "    plt.xticks(np.arange(0,xmax+0.25,0.25))\n",
    "    plt.xlabel('x')\n",
    "    plt.ylabel('V(x)')\n",
    "    plt.show()\n",
    "\n",
    "# The function potential() takes as parameters the Boolean value 'plotBool' to indicate if a plot of the  \n",
    "# potential is desired, and another Boolean 'randomBool' to indicate whether to use randomness to create a\n",
    "# disordered potential (as required in task7). Then, it finds where the x position is an integer and sets the\n",
    "# potential value to 70 for a calculated width. Finally it returns the compressed matrix representing the potential V.\n",
    "    \n",
    "def potential(plotBool, randomBool):\n",
    "\n",
    "    xs, dx = get_space(0,100)\n",
    "        \n",
    "    ints = np.arange(0,101,1.0)\n",
    "    values = np.zeros(len(xs))\n",
    "    \n",
    "    if(randomBool):\n",
    "        widths = np.random.uniform(0.125,0.375,len(ints))\n",
    "        widths = widths/dx\n",
    "    else:\n",
    "        widths = np.full(len(ints), int(0.25/dx))\n",
    "    \n",
    "    for i in ints:\n",
    "        width = int(widths[int(i)])\n",
    "        idx = np.where(xs==i)[0][0]\n",
    "        left = np.maximum(0, idx-width)  # to ensure correct potential at x=0\n",
    "        values[left:idx+width] = 70   # set the potential to 70 according to the width\n",
    "    \n",
    "    if(plotBool):\n",
    "        plot_V(xs,values,3)\n",
    "        \n",
    "    potential = diags([values],[0]).tocsr().tocsc()\n",
    "    \n",
    "    return potential\n",
    "\n",
    "use_my_dx=False # indication to NOT use the my_dx value from task2() because it is not small enough for sufficient accuracy\n",
    "V = potential(plotBool=True, randomBool=False)"
   ]
  },
  {
   "cell_type": "markdown",
   "metadata": {
    "deletable": false,
    "editable": false,
    "nbgrader": {
     "cell_type": "markdown",
     "checksum": "a677f62e1ff93e1705edb79f9ffda1c5",
     "grade": false,
     "grade_id": "section-task4-cont",
     "locked": true,
     "schema_version": 3,
     "solution": false,
     "task": false
    }
   },
   "source": [
    "# Task 4 continued\n",
    "\n",
    "In the cell below, repeat task 3 with the new potential."
   ]
  },
  {
   "cell_type": "code",
   "execution_count": 14,
   "metadata": {
    "deletable": false,
    "nbgrader": {
     "cell_type": "code",
     "checksum": "2d5de27a32e1e00fc6b5b0ac93f2fc64",
     "grade": false,
     "grade_id": "answer-task4",
     "locked": false,
     "schema_version": 3,
     "solution": true,
     "task": false
    }
   },
   "outputs": [
    {
     "name": "stderr",
     "output_type": "stream",
     "text": [
      "/opt/conda/lib/python3.7/site-packages/numpy/core/_asarray.py:83: ComplexWarning: Casting complex values to real discards the imaginary part\n",
      "  return array(a, dtype, copy=False, order=order)\n",
      "/opt/conda/lib/python3.7/site-packages/numpy/core/_asarray.py:83: ComplexWarning: Casting complex values to real discards the imaginary part\n",
      "  return array(a, dtype, copy=False, order=order)\n"
     ]
    },
    {
     "data": {
      "image/png": "[encoded data removed]",
      "text/plain": [
       "<Figure size 864x576 with 1 Axes>"
      ]
     },
     "metadata": {
      "needs_background": "light"
     },
     "output_type": "display_data"
    },
    {
     "name": "stdout",
     "output_type": "stream",
     "text": [
      "The mean of the final position is 57.608\n",
      "Time to solution: 2.2736852169036865 seconds.\n"
     ]
    }
   ],
   "source": [
    "t1 = time.time()\n",
    "# same as task3 but with potential=V (not 0) & smaller dx (from get_space() )\n",
    "psis, mean = task3(v, V, plotBool=True)  \n",
    "t2 = time.time()\n",
    "print(f\"The mean of the final position is {mean:.3f}\")\n",
    "print (f\"Time to solution: {t2-t1} seconds.\")"
   ]
  },
  {
   "cell_type": "markdown",
   "metadata": {
    "deletable": false,
    "editable": false,
    "nbgrader": {
     "cell_type": "markdown",
     "checksum": "6132662c54c849e9968cb221ea16659f",
     "grade": false,
     "grade_id": "section-task5",
     "locked": true,
     "schema_version": 3,
     "solution": false,
     "task": false
    }
   },
   "source": [
    "# Task 5 (15p)\n",
    "\n",
    "Calculate the probability $P_{1/2}$ of the particle moving through the point x=L/2 by integrating the probability current \n",
    "\n",
    "$\n",
    "\\large\n",
    "\\begin{align}\n",
    "j = (\\psi^*  \\frac{\\partial \\psi}{\\partial x} -\n",
    "\\psi \\frac{\\partial \\psi^*}{\\partial x})(x=L/2)\n",
    "\\end{align}\n",
    "$\n",
    "\n",
    "over time, for t=0...4. The probability can deviate from the true value by no more than $\\pm$0.01 (hint: the correct value is between 0.5 and 1).\n",
    "\n",
    "In the cell below, calculate the probability and print your answer."
   ]
  },
  {
   "cell_type": "code",
   "execution_count": 15,
   "metadata": {
    "deletable": false,
    "nbgrader": {
     "cell_type": "code",
     "checksum": "69036dbb6598c88ed2c686173d93177a",
     "grade": false,
     "grade_id": "function-task5",
     "locked": false,
     "schema_version": 3,
     "solution": true,
     "task": false
    }
   },
   "outputs": [],
   "source": [
    "# The function task5() takes as parameter an array containing the wavefunctions over all time-steps. Next, it \n",
    "# finds the point where x=L/2 and  creates a new wavefunction fixed at x-dx over all times, and calculates its conjugate. \n",
    "# That is repeated for the next value of x too (x+dx). The reason these two points were selected is that they are\n",
    "# needed for symmetric discrete differentiation, where f'(x) = f(x+h)-f(x-h)/2h. Then the probability current is calculated\n",
    "# (as in the equation above) and integrated from t=0 to t=tmax. Finally the function returns the probability P_1/2.\n",
    "\n",
    "def task5(psis):\n",
    "    \n",
    "    xs, dx = get_space(0,100)\n",
    "    N = len(xs)\n",
    "    ts, dt = get_time()\n",
    "    \n",
    "    idx = np.where(xs==(L/2))[0][0]\n",
    "    psi = psis[:,idx-1]\n",
    "    psi_star = psi.conj()\n",
    "    psi2 = psis[:,idx+1]\n",
    "    psi_star2 = psi2.conj()\n",
    "    \n",
    "    j = (psi_star * (psi2-psi)/(2*dx) - psi * (psi_star2-psi_star)/(2*dx))/(1j)\n",
    "    I = integrate.simps(j,ts)\n",
    "    prob = I.real\n",
    "    \n",
    "    return (prob)"
   ]
  },
  {
   "cell_type": "code",
   "execution_count": 16,
   "metadata": {},
   "outputs": [
    {
     "name": "stdout",
     "output_type": "stream",
     "text": [
      "The probability of the particle moving through x=L/2 is 0.82568 \n",
      "Time to solution: 0.0012555122375488281 seconds.\n"
     ]
    }
   ],
   "source": [
    "t1 = time.time()\n",
    "prob = task5(psis)\n",
    "t2 = time.time()\n",
    "print(f\"The probability of the particle moving through x=L/2 is {prob:.5f} \")\n",
    "print (f\"Time to solution: {t2-t1} seconds.\")"
   ]
  },
  {
   "cell_type": "markdown",
   "metadata": {
    "deletable": false,
    "editable": false,
    "nbgrader": {
     "cell_type": "markdown",
     "checksum": "a5704cc71928fbf5402f80cfa8e06bb6",
     "grade": false,
     "grade_id": "section-task6",
     "locked": true,
     "schema_version": 3,
     "solution": false,
     "task": false
    }
   },
   "source": [
    "# Task 6 (15p)\n",
    "\n",
    "Plot the probability $P_{1/2}$ as a function of particle energy E=0...100, for at least 100 equally-spaced values from this range. All $P_{1/2}$ values should be within $\\pm$0.01 of the true values. Use the formula \n",
    "\n",
    "$\n",
    "\\large\n",
    "\\begin{align}\n",
    "E = \\frac{1}{4} v^2\n",
    "\\end{align}\n",
    "$\n",
    "\n",
    "to convert between energy and velocity (valid for Eqs. (1,2)).\n",
    "\n",
    "Bonus question: can you explain why the plot looks like this?\n",
    "\n",
    "Plot the probability in the cell below."
   ]
  },
  {
   "cell_type": "code",
   "execution_count": 17,
   "metadata": {},
   "outputs": [],
   "source": [
    "# The function task6() loops through 100 evenly spaced values of energy from 0 to 100. The corresponding velocity v\n",
    "# is calculated each time and then task3() is called to obtain the wavefunctions. Next, task5() is called to\n",
    "# calculate and return the probability P_1/2, where it is stored in an array. Finally, the probabilities P_1/2 are \n",
    "# plotted as a function of the particle energy.\n",
    "\n",
    "def task6():\n",
    "    \n",
    "    V = potential(plotBool=False, randomBool=False)\n",
    "    energies = np.arange(0,101,1)\n",
    "    probs = np.zeros(len(energies))\n",
    "    \n",
    "    for e in energies:\n",
    "        v = np.sqrt(4*e)\n",
    "        psis, mean = task3(v, V, plotBool=False)  \n",
    "        prob = task5(psis)\n",
    "        idx = np.where(energies==e)[0][0]\n",
    "        probs[idx] = prob\n",
    "        \n",
    "    plt.plot(energies,probs)\n",
    "    plt.xticks(np.arange(0,101,10))\n",
    "    plt.yticks(np.arange(0,1.01,0.1))\n",
    "    plt.xlabel('Particle Energy')\n",
    "    plt.ylabel('Probability $P_{1/2}$')\n",
    "    plt.show()\n",
    "    \n",
    "    return probs"
   ]
  },
  {
   "cell_type": "code",
   "execution_count": 18,
   "metadata": {
    "deletable": false,
    "nbgrader": {
     "cell_type": "code",
     "checksum": "34248862ebaaf5a028b3f562b2fe6efc",
     "grade": false,
     "grade_id": "function-task6",
     "locked": false,
     "schema_version": 3,
     "solution": true,
     "task": false
    }
   },
   "outputs": [
    {
     "data": {
      "image/png": "[encoded data removed]",
      "text/plain": [
       "<Figure size 864x576 with 1 Axes>"
      ]
     },
     "metadata": {
      "needs_background": "light"
     },
     "output_type": "display_data"
    },
    {
     "name": "stdout",
     "output_type": "stream",
     "text": [
      "Time to solution: 194.94462943077087 seconds.\n"
     ]
    }
   ],
   "source": [
    "use_my_dx=False  # indication to NOT use the my_dx value from task2() because it is not small enough for sufficient accuracy\n",
    "t1 = time.time()\n",
    "probs = task6()\n",
    "t2 = time.time()\n",
    "print (f\"Time to solution: {t2-t1} seconds.\")"
   ]
  },
  {
   "cell_type": "markdown",
   "metadata": {
    "deletable": false,
    "editable": false,
    "nbgrader": {
     "cell_type": "markdown",
     "checksum": "395d9446d8ecec601bd2616f5aa01114",
     "grade": false,
     "grade_id": "section-task7",
     "locked": true,
     "schema_version": 3,
     "solution": false,
     "task": false
    }
   },
   "source": [
    "# Task 7 (10p)\n",
    "\n",
    "Assume again the initial condition of equation (2) with v=16, and consider a disordered potential in which\n",
    "\n",
    "V=70 for |x-i| < b$_i$ where i=0,1,...,100,\n",
    "\n",
    "and b$_i$ is a random variable uniformly distributed on [0.125, 0.375].\n",
    "\n",
    "Find the probability $P_{1/2}$ by averaging over 100 realizations of the random potential (must be accurate to $\\pm$0.02). Plot the histogram of $P_{1/2}$. Comment on the value of $P_{1/2}$ compared with task 5."
   ]
  },
  {
   "cell_type": "code",
   "execution_count": 19,
   "metadata": {
    "deletable": false,
    "nbgrader": {
     "cell_type": "code",
     "checksum": "546417409ea0cf71ede0771b17aec4ca",
     "grade": false,
     "grade_id": "function-task7",
     "locked": false,
     "schema_version": 3,
     "solution": true,
     "task": false
    }
   },
   "outputs": [],
   "source": [
    "# The function task7() runs 100 times, each with a different random disordered potential. Task3() is called to return\n",
    "# the wavefunctions and task5() is called to calculate the probability P_1/2 each time.\n",
    "# Finally a histogram of the probabilities P_1/2 is plotted, and their average is calculated and printed out.\n",
    "\n",
    "def task7():\n",
    "    \n",
    "    v = 16\n",
    "    runs = 100\n",
    "    probs = np.zeros(runs)\n",
    "    \n",
    "    for i in range(runs):  \n",
    "        V = potential(plotBool=False, randomBool=True)  # disordered potential\n",
    "        psis, mean = task3(v, V, plotBool=False)  \n",
    "        prob = task5(psis)\n",
    "        probs[i] = prob\n",
    "    \n",
    "    fig, ax = plt.subplots()\n",
    "    bins=11\n",
    "    plt.hist(probs, bins, density = False, rwidth=0.97) \n",
    "    xmin = np.min(probs)\n",
    "    xmax = np.max(probs)\n",
    "    plt.xticks(np.linspace(xmin,xmax,bins+1))\n",
    "    plt.xlabel('Probability $P_{1/2}$')\n",
    "    plt.ylabel(\"Count\")\n",
    "    ax.xaxis.set_major_formatter(FormatStrFormatter('%.3f'))\n",
    "    #plt.xticks(fontsize=15, rotation=20)\n",
    "    plt.show()\n",
    "\n",
    "    avg = np.average(probs)\n",
    "    print(f\"The average probability over {runs} realisations is {avg:.4f}\")\n",
    "    \n",
    "    return avg"
   ]
  },
  {
   "cell_type": "code",
   "execution_count": 20,
   "metadata": {
    "deletable": false,
    "nbgrader": {
     "cell_type": "code",
     "checksum": "6bd69d5861aa9544b04e3873d9ae0379",
     "grade": false,
     "grade_id": "answer-task7",
     "locked": false,
     "schema_version": 3,
     "solution": true,
     "task": false
    }
   },
   "outputs": [
    {
     "data": {
      "image/png": "[encoded data removed]",
      "text/plain": [
       "<Figure size 864x576 with 1 Axes>"
      ]
     },
     "metadata": {
      "needs_background": "light"
     },
     "output_type": "display_data"
    },
    {
     "name": "stdout",
     "output_type": "stream",
     "text": [
      "The average probability over 100 realisations is 0.0438\n",
      "\n",
      "The probability in this case is much lower than in task 5. This is an indication that localizaton has been achieved. \n",
      "The reason is that the potential is not a regular pattern of equally spaced wells anymore, but instead it is disordered with random widths b_i. \n",
      "Therefore the particle cannot move through the potential anymore, but instead gets trapped in the wells and does not move.\n",
      "\n",
      "Time to solution: 101.13021421432495 seconds.\n"
     ]
    }
   ],
   "source": [
    "use_my_dx=True  # indication to use the my_dx value from task2() (good enough for desired accuracy)\n",
    "t1 = time.time()\n",
    "avg = task7()\n",
    "t2 = time.time()\n",
    "print(\"\\nThe probability in this case is much lower than in task 5. This is an indication that localizaton has been \"+\n",
    "        \"achieved. \\nThe reason is that the potential is not a regular pattern of equally spaced wells anymore, but \"+\n",
    "        \"instead it is disordered with random widths b_i. \\nTherefore the particle cannot move through the potential \"+\n",
    "        \"anymore, but instead gets trapped in the wells and does not move.\\n\")\n",
    "\n",
    "print (f\"Time to solution: {t2-t1} seconds.\")"
   ]
  },
  {
   "cell_type": "code",
   "execution_count": null,
   "metadata": {},
   "outputs": [],
   "source": []
  }
 ],
 "metadata": {
  "kernelspec": {
   "display_name": "Python 3",
   "language": "python",
   "name": "python3"
  },
  "language_info": {
   "codemirror_mode": {
    "name": "ipython",
    "version": 3
   },
   "file_extension": ".py",
   "mimetype": "text/x-python",
   "name": "python",
   "nbconvert_exporter": "python",
   "pygments_lexer": "ipython3",
   "version": "3.7.6"
  }
 },
 "nbformat": 4,
 "nbformat_minor": 4
}
